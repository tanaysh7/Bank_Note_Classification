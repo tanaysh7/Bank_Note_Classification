{
 "cells": [
  {
   "cell_type": "markdown",
   "metadata": {
    "colab_type": "text",
    "id": "lwz_GPZtpSGK"
   },
   "source": [
    "##  Active and Passive Learning for Bank Notes Classification"
   ]
  },
  {
   "cell_type": "markdown",
   "metadata": {
    "colab_type": "text",
    "id": "DrLcVMf9kvk6"
   },
   "source": [
    "**(a) Download the banknote authentication Data Set from: https://archive.ics.uci.edu/ml/datasets/banknote+authentication. Choose 472 data points randomly as the test set. This is a binary classiﬁcation problem. **"
   ]
  },
  {
   "cell_type": "code",
   "execution_count": 1,
   "metadata": {
    "colab": {
     "autoexec": {
      "startup": false,
      "wait_interval": 0
     }
    },
    "colab_type": "code",
    "collapsed": true,
    "id": "fBOUPicMbE1_"
   },
   "outputs": [],
   "source": [
    "import pandas as pd\n",
    "import numpy as np\n",
    "import seaborn as sb\n",
    "import matplotlib.pyplot as plt\n",
    "from sklearn.model_selection import GridSearchCV,KFold\n",
    "from sklearn.svm import LinearSVC\n",
    "from sklearn.metrics import accuracy_score"
   ]
  },
  {
   "cell_type": "code",
   "execution_count": 2,
   "metadata": {
    "colab": {
     "autoexec": {
      "startup": false,
      "wait_interval": 0
     }
    },
    "colab_type": "code",
    "collapsed": true,
    "id": "x6r8fmaPpW6u"
   },
   "outputs": [],
   "source": [
    "df=pd.read_csv(\"data_banknote_authentication.txt\",names=[\"varianceWTI\",\"skewnessWTI\",\"curtosisWTI\",\"entropy\",\"class\"])"
   ]
  },
  {
   "cell_type": "markdown",
   "metadata": {
    "colab_type": "text",
    "id": "T5i7BOW6lJHw"
   },
   "source": [
    "**(b) Repeat each of the following two procedures 50 times. You will have 50 errors for 90 SVMs per each procedure**"
   ]
  },
  {
   "cell_type": "markdown",
   "metadata": {
    "colab_type": "text",
    "id": "TZ1SF1APlMAE"
   },
   "source": [
    " i. Train a SVM with a pool of 10 randomly selected data points from the training set using linear kernel and L1 penalty. Select the penalty parameter using 10-fold cross validation.1 Repeat this process by adding 10 other randomly selected data points to the pool, until you use all the 900 points. Do NOT replace the samples back into the training set at each step. Calculate the test error for each SVM. You will have 90 SVMs that were trained using 10, 20, 30, ... , 900 data points and their 90 test errors. You have implemented passive learning. \n"
   ]
  },
  {
   "cell_type": "code",
   "execution_count": 11,
   "metadata": {
    "colab": {
     "autoexec": {
      "startup": false,
      "wait_interval": 0
     }
    },
    "colab_type": "code",
    "collapsed": true,
    "id": "LVSMoYYopXVa"
   },
   "outputs": [],
   "source": [
    "train=df.sample(frac=900/df.shape[0],random_state=200)\n",
    "test=df.drop(train.index)\n",
    "train_bkp=train"
   ]
  },
  {
   "cell_type": "code",
   "execution_count": 12,
   "metadata": {
    "colab": {
     "autoexec": {
      "startup": false,
      "wait_interval": 0
     },
     "base_uri": "https://localhost:8080/",
     "height": 53,
     "output_extras": [
      {
       "item_id": 1
      },
      {
       "item_id": 2
      }
     ]
    },
    "colab_type": "code",
    "executionInfo": {
     "elapsed": 317,
     "status": "ok",
     "timestamp": 1522358459244,
     "user": {
      "displayName": "Tanay Shankar",
      "photoUrl": "//lh3.googleusercontent.com/-VNAVmtATPik/AAAAAAAAAAI/AAAAAAAAHWA/p10qho8YI18/s50-c-k-no/photo.jpg",
      "userId": "113342812009600304454"
     },
     "user_tz": 420
    },
    "id": "Z85Ch1hvsemW",
    "outputId": "c259182b-26f7-43cd-b14b-cbfdf0a628b6"
   },
   "outputs": [
    {
     "name": "stdout",
     "output_type": "stream",
     "text": [
      "(900, 5)\n"
     ]
    },
    {
     "data": {
      "text/plain": [
       "(472, 5)"
      ]
     },
     "execution_count": 12,
     "metadata": {},
     "output_type": "execute_result"
    }
   ],
   "source": [
    "print(train.shape)\n",
    "test.shape"
   ]
  },
  {
   "cell_type": "code",
   "execution_count": 13,
   "metadata": {
    "colab": {
     "autoexec": {
      "startup": false,
      "wait_interval": 0
     }
    },
    "colab_type": "code",
    "collapsed": true,
    "id": "B06u-nMN0w1-"
   },
   "outputs": [],
   "source": [
    "X,y=train[[\"varianceWTI\",\"skewnessWTI\",\"curtosisWTI\",\"entropy\"]], train['class']\n",
    "X_test,y_test=test[[\"varianceWTI\",\"skewnessWTI\",\"curtosisWTI\",\"entropy\"]],test[\"class\"]"
   ]
  },
  {
   "cell_type": "markdown",
   "metadata": {
    "colab_type": "text",
    "id": "I2Nba4NdOWAU"
   },
   "source": [
    "*To choose parameter ranges for SVMs, One can use wide ranges for the parameters and a ﬁne grid (e.g. 1000 points) for cross validation; however,this method may be computationally expensive. An alternative way is to train the SVM with very large and very small parameters on the whole training data and ﬁnd very large and very small parameters for which the training accuracy is not below a threshold (e.g., 70%). Then one can select a ﬁxed number of parameters (e.g., 20) between those points for cross validation. For the penalty parameter, usually one has to consider increments in log(λ). For example, if one found that the accuracy of a support vector machine will not be below 70% for λ = 10−3 and λ = 106, one has to choose log(λ) ∈{−3,−2,...,4,5,6}. For the Gaussian Kernel parameter, one usually chooses linear increments,e.g. σ ∈{.1,.2,...,2}. When both σ and λ are to be chosen using cross-validation, combinations of very small and very large λ’s and σ’s that keep the accuracy above a threshold (e.g.70%) can be used to determine the ranges for σ and λ. Please note that these are very rough rules of thumb, not general procedures. *"
   ]
  },
  {
   "cell_type": "code",
   "execution_count": 18,
   "metadata": {
    "colab": {
     "autoexec": {
      "startup": false,
      "wait_interval": 0
     }
    },
    "colab_type": "code",
    "collapsed": true,
    "id": "orY_G1Z7yh2o"
   },
   "outputs": [],
   "source": [
    "passive=[]\n",
    "for i in range(0,50,1):\n",
    "  dfcv=pd.DataFrame(columns=[\"varianceWTI\",\"skewnessWTI\",\"curtosisWTI\",\"entropy\",\"class\"])\n",
    "  acc=[]\n",
    "  train=train_bkp  \n",
    "  while(train.shape[0]!=0):\n",
    "    df_ToAdd=train.sample(10)\n",
    "    train=train.drop(df_ToAdd.index)\n",
    "    dfcv=dfcv.append(df_ToAdd)\n",
    "    Xcv,ycv=dfcv[[\"varianceWTI\",\"skewnessWTI\",\"curtosisWTI\",\"entropy\"]],dfcv[\"class\"]\n",
    "    param_grid={'C': np.logspace(-2, 10, 13)};\n",
    "    cv = KFold(10)\n",
    "    grid_search = GridSearchCV(LinearSVC( penalty='l1', dual=False), param_grid, cv=cv,n_jobs=4)\n",
    "    grid_search.fit(Xcv, ycv.astype('int'))\n",
    "    acc.append(1-accuracy_score(grid_search.predict(X_test),y_test.astype('int')))\n",
    "  passive.append(acc)"
   ]
  },
  {
   "cell_type": "markdown",
   "metadata": {},
   "source": [
    "Added Test Errors to a list and Averaged over the 50 iterations"
   ]
  },
  {
   "cell_type": "code",
   "execution_count": 26,
   "metadata": {
    "colab": {
     "autoexec": {
      "startup": false,
      "wait_interval": 0
     }
    },
    "colab_type": "code",
    "collapsed": true,
    "id": "RYUdc6d23KnI"
   },
   "outputs": [],
   "source": [
    "passiveAvg=[]\n",
    "for i in range(0,90,1):\n",
    "  sum=0\n",
    "  for errlist in passive:\n",
    "    sum+=errlist[i]\n",
    "  passiveAvg.append(sum/50)\n",
    "  "
   ]
  },
  {
   "cell_type": "markdown",
   "metadata": {
    "colab_type": "text",
    "id": "dLn5A1iPlVbX"
   },
   "source": [
    " ii. Train a SVM with a pool of 10 randomly selected data points from the training set using linear kernel and L1 penalty. Select the parameters of the SVM with 10-fold cross validation. Choose the 10 closest data points in the training set to the margin of the SVM2 and add them to the pool. Do not replace the samples back into the training set. Train a new SVM using the pool.Repeat this process until all training data is used. You will have 90 SVMs that were trained using 10, 20, 30,..., 900 data points and their 90 test errors. You have implemented active learning. "
   ]
  },
  {
   "cell_type": "code",
   "execution_count": 23,
   "metadata": {
    "colab": {
     "autoexec": {
      "startup": false,
      "wait_interval": 0
     }
    },
    "colab_type": "code",
    "collapsed": true,
    "id": "InCVXfrT7Dp0"
   },
   "outputs": [],
   "source": [
    "active=[]\n",
    "for i in range(0,50,1):\n",
    "  dfcv=pd.DataFrame(columns=[\"varianceWTI\",\"skewnessWTI\",\"curtosisWTI\",\"entropy\",\"class\"])\n",
    "  acc=[]\n",
    "  train=train_bkp  \n",
    "  df_ToAdd=train.sample(10)\n",
    "\n",
    "  while(train.shape[0]!=0):\n",
    "    distanceList=[]\n",
    "    train=train.drop(df_ToAdd.index)\n",
    "    dfcv=dfcv.append(df_ToAdd)\n",
    "    Xcv,ycv=dfcv[[\"varianceWTI\",\"skewnessWTI\",\"curtosisWTI\",\"entropy\"]],dfcv[\"class\"]\n",
    "    param_grid={'C': np.logspace(-2, 10, 13)};\n",
    "    cv = KFold(10)\n",
    "    grid_search = GridSearchCV(LinearSVC( penalty='l1', dual=False), param_grid, cv=cv,n_jobs=8)\n",
    "    grid_search.fit(Xcv, ycv.astype('int'))\n",
    "    #grid_search.best_params_['C']\n",
    "    acc.append(1-accuracy_score(grid_search.predict(X_test),y_test.astype('int')))\n",
    "    \n",
    "    for i in train.index:\n",
    "      distanceList.append(abs(grid_search.decision_function(train.loc[i][:-1].values.reshape(1, -1))))\n",
    "    df_ToAdd=train.iloc[sorted(range(len(distanceList)), key=lambda i: distanceList[i])[:10]]\n",
    "    \n",
    "    \n",
    "  active.append(acc)"
   ]
  },
  {
   "cell_type": "markdown",
   "metadata": {},
   "source": [
    "Added Test Errors to a list and Averaged over the 50 iterations"
   ]
  },
  {
   "cell_type": "code",
   "execution_count": 24,
   "metadata": {
    "colab": {
     "autoexec": {
      "startup": false,
      "wait_interval": 0
     }
    },
    "colab_type": "code",
    "collapsed": true,
    "id": "AE4yjv8Od-5o"
   },
   "outputs": [],
   "source": [
    "active\n",
    "activeAvg=[]\n",
    "for i in range(0,90,1):\n",
    "  sum=0\n",
    "  for errlist in active:\n",
    "    sum+=errlist[i]\n",
    "  activeAvg.append(sum/50)\n",
    "  "
   ]
  },
  {
   "cell_type": "markdown",
   "metadata": {
    "colab_type": "text",
    "id": "5zPkHn1AlaDB"
   },
   "source": [
    "**(c) Average the test errors for the incrementally trained 90 SVMs in 1(b)i and1(b)ii. By doing so, you are performing a Monte Carlo simulation. Plot average test error versus number of training instances for both active and passive learners on the same ﬁgure and report your conclusions.\n",
    "**"
   ]
  },
  {
   "cell_type": "code",
   "execution_count": 51,
   "metadata": {},
   "outputs": [
    {
     "data": {
      "image/png": "[encoded data removed]",
      "text/plain": [
       "<Figure size 720x576 with 1 Axes>"
      ]
     },
     "metadata": {},
     "output_type": "display_data"
    }
   ],
   "source": [
    "plt.figure(figsize=(10,8))\n",
    "plt.plot(range(10,901,10),activeAvg, label='Active Learning',linestyle='dashed')\n",
    "plt.plot(range(10,901,10),passiveAvg, label='Passive Learning',linestyle='dashed')\n",
    "plt.xlabel('Size of training data set')\n",
    "plt.ylabel('Avg Error')\n",
    "plt.title(\"Monte Carlo Simulation\")\n",
    "plt.legend()\n",
    "plt.show()"
   ]
  },
  {
   "cell_type": "code",
   "execution_count": 7,
   "metadata": {
    "colab": {
     "autoexec": {
      "startup": false,
      "wait_interval": 0
     },
     "base_uri": "https://localhost:8080/",
     "height": 88,
     "output_extras": [
      {
       "item_id": 1
      }
     ]
    },
    "colab_type": "code",
    "executionInfo": {
     "elapsed": 298,
     "status": "ok",
     "timestamp": 1522358464351,
     "user": {
      "displayName": "Tanay Shankar",
      "photoUrl": "//lh3.googleusercontent.com/-VNAVmtATPik/AAAAAAAAAAI/AAAAAAAAHWA/p10qho8YI18/s50-c-k-no/photo.jpg",
      "userId": "113342812009600304454"
     },
     "user_tz": 420
    },
    "id": "F0Mzb5URpXYW",
    "outputId": "8e56b88d-863f-419b-cfaa-afe945ac340e"
   },
   "outputs": [
    {
     "data": {
      "text/plain": [
       "LinearSVC(C=1, class_weight=None, dual=False, fit_intercept=True,\n",
       "     intercept_scaling=1, loss='squared_hinge', max_iter=1000,\n",
       "     multi_class='ovr', penalty='l1', random_state=None, tol=0.0001,\n",
       "     verbose=0)"
      ]
     },
     "execution_count": 7,
     "metadata": {},
     "output_type": "execute_result"
    }
   ],
   "source": [
    "clf = LinearSVC( C=1,penalty='l1', dual=False)\n",
    "clf.fit(X,y) "
   ]
  },
  {
   "cell_type": "code",
   "execution_count": 8,
   "metadata": {
    "colab": {
     "autoexec": {
      "startup": false,
      "wait_interval": 0
     },
     "base_uri": "https://localhost:8080/",
     "height": 35,
     "output_extras": [
      {
       "item_id": 1
      }
     ]
    },
    "colab_type": "code",
    "executionInfo": {
     "elapsed": 290,
     "status": "ok",
     "timestamp": 1522358465227,
     "user": {
      "displayName": "Tanay Shankar",
      "photoUrl": "//lh3.googleusercontent.com/-VNAVmtATPik/AAAAAAAAAAI/AAAAAAAAHWA/p10qho8YI18/s50-c-k-no/photo.jpg",
      "userId": "113342812009600304454"
     },
     "user_tz": 420
    },
    "id": "uNfPl49LpXdV",
    "outputId": "19a66a83-089c-4a1d-d379-5f240d92d315"
   },
   "outputs": [
    {
     "data": {
      "text/plain": [
       "0.9915254237288136"
      ]
     },
     "execution_count": 8,
     "metadata": {},
     "output_type": "execute_result"
    }
   ],
   "source": [
    "accuracy_score(clf.predict(X_test),y_test)"
   ]
  },
  {
   "cell_type": "markdown",
   "metadata": {},
   "source": [
    "### Conclusion\n",
    "**Monte Carlo Simulation** reveals that passive training samples are picked at random and may not even be support vectors, so the error rate overlaps or comes close to active learning rate initially but due to better training active learning improves faster. Both trainings gradually giving a similar result when trained long enough."
   ]
  }
 ],
 "metadata": {
  "accelerator": "GPU",
  "colab": {
   "collapsed_sections": [],
   "default_view": {},
   "name": "inf552hw4.ipynb",
   "provenance": [],
   "toc_visible": true,
   "version": "0.3.2",
   "views": {}
  },
  "kernelspec": {
   "display_name": "Python 3",
   "language": "python",
   "name": "python3"
  },
  "language_info": {
   "codemirror_mode": {
    "name": "ipython",
    "version": 3
   },
   "file_extension": ".py",
   "mimetype": "text/x-python",
   "name": "python",
   "nbconvert_exporter": "python",
   "pygments_lexer": "ipython3",
   "version": "3.6.3"
  }
 },
 "nbformat": 4,
 "nbformat_minor": 1
}
